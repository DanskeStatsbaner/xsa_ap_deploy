{
 "cells": [
  {
   "cell_type": "code",
   "execution_count": 1,
   "id": "adequate-regular",
   "metadata": {},
   "outputs": [],
   "source": [
    "import cockpit"
   ]
  },
  {
   "cell_type": "code",
   "execution_count": null,
   "id": "precise-camel",
   "metadata": {},
   "outputs": [],
   "source": []
  }
 ],
 "metadata": {
  "kernelspec": {
   "display_name": "Python 3",
   "language": "python",
   "name": "python3"
  },
  "language_info": {
   "codemirror_mode": {
    "name": "ipython",
    "version": 3
   },
   "file_extension": ".py",
   "mimetype": "text/x-python",
   "name": "python",
   "nbconvert_exporter": "python",
   "pygments_lexer": "ipython3",
   "version": "3.8.11"
  }
 },
 "nbformat": 4,
 "nbformat_minor": 5
}
